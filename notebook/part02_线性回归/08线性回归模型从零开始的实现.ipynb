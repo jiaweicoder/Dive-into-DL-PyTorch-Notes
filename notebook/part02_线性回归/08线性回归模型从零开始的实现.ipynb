{
 "cells": [
  {
   "cell_type": "markdown",
   "metadata": {},
   "source": [
    "# 08 线性回归模型从零开始的实现"
   ]
  },
  {
   "cell_type": "markdown",
   "metadata": {},
   "source": [
    "这里只利用tensor和autograd来实现一个线性回归的训练"
   ]
  },
  {
   "cell_type": "markdown",
   "metadata": {},
   "source": [
    "## 1.导入所需要的包"
   ]
  },
  {
   "cell_type": "code",
   "execution_count": 1,
   "metadata": {},
   "outputs": [],
   "source": [
    "#%matplotlib inline\n",
    "import torch\n",
    "from IPython import display\n",
    "from matplotlib import pyplot as plt\n",
    "import numpy as np\n",
    "import random"
   ]
  },
  {
   "cell_type": "markdown",
   "metadata": {},
   "source": [
    "## 2.生成数据集"
   ]
  },
  {
   "cell_type": "markdown",
   "metadata": {},
   "source": [
    "使用线性模型来生成数据集，生成一个1000个样本的数据集，下面是用来生成数据的线性关系：\n",
    "$$ {\\mathrm{y}} = w_{\\mathrm{1}} \\cdot x_{\\mathrm{1}} + w_{\\mathrm{2}} \\cdot x_{\\mathrm{2}} + b $$"
   ]
  },
  {
   "cell_type": "code",
   "execution_count": 2,
   "metadata": {},
   "outputs": [],
   "source": [
    "# 设置输入的特征数量\n",
    "num_inputs = 2\n",
    "# 设置样本数量\n",
    "num_examples = 1000\n",
    "\n",
    "# 设置真实的权重和偏差以生成相应的标签\n",
    "true_w = [2, -3.4]\n",
    "true_b = 4.2\n",
    "\n",
    "# 随机生成样本\n",
    "features = torch.randn(num_examples, num_inputs,\n",
    "                      dtype=torch.float32)\n",
    "labels = true_w[0] * features[:, 0] + true_w[1] * features[:, 1] + true_b\n",
    "# 给标签加上无意义的干扰噪声\n",
    "labels += torch.tensor(np.random.normal(0, 0.01, size=labels.size()),\n",
    "                       dtype=torch.float32)"
   ]
  },
  {
   "cell_type": "markdown",
   "metadata": {},
   "source": [
    "## 3.使用图像来展示生成的数据"
   ]
  },
  {
   "cell_type": "code",
   "execution_count": 3,
   "metadata": {},
   "outputs": [
    {
     "data": {
      "image/png": "[encoded data removed]",
      "text/plain": [
       "<Figure size 432x288 with 1 Axes>"
      ]
     },
     "metadata": {
      "needs_background": "light"
     },
     "output_type": "display_data"
    }
   ],
   "source": [
    "plt.scatter(features[:, 1].numpy(), labels.numpy(), 1);"
   ]
  },
  {
   "cell_type": "markdown",
   "metadata": {},
   "source": [
    "## 4.读取数据集\n",
    "在训练模型时，我们需要遍历数据集并不断读取小批量数据样本。这里我们定义一个函数：它每次返回批量大小(batch_size)数量随机样本的特征和标签。"
   ]
  },
  {
   "cell_type": "code",
   "execution_count": 4,
   "metadata": {},
   "outputs": [],
   "source": [
    "def data_iter(batch_size, features, labels):\n",
    "    num_examples = len(features)  # 传入的样本数量\n",
    "    indices = list(range(num_examples))\n",
    "    random.shuffle(indices)  # 样本的读取顺序是随机的\n",
    "    for i in range(0, num_examples, batch_size):\n",
    "        j = torch.LongTensor(indices[i: min(i + batch_size, num_examples)]) # 最后一次可能不足一个完整的batch\n",
    "        yield  features.index_select(0, j), labels.index_select(0, j)"
   ]
  },
  {
   "cell_type": "markdown",
   "metadata": {},
   "source": [
    "我们读取第一个小批量样本数据并打印。"
   ]
  },
  {
   "cell_type": "code",
   "execution_count": 5,
   "metadata": {},
   "outputs": [
    {
     "name": "stdout",
     "output_type": "stream",
     "text": [
      "tensor([[-0.8197,  0.4944],\n",
      "        [ 0.6858, -0.8615],\n",
      "        [ 1.1705, -0.9048],\n",
      "        [-0.2515, -1.3284],\n",
      "        [-0.6791, -2.2315],\n",
      "        [ 0.5284, -1.0820],\n",
      "        [-0.2679, -0.7374],\n",
      "        [ 0.6923,  0.9848],\n",
      "        [ 0.6398,  2.1035],\n",
      "        [-1.7033,  0.0114]]) \n",
      " tensor([ 0.8667,  8.5071,  9.6380,  8.2207, 10.4333,  8.9452,  6.1703,  2.2323,\n",
      "        -1.6851,  0.7626])\n"
     ]
    }
   ],
   "source": [
    "batch_size = 10\n",
    "\n",
    "for X, y in data_iter(batch_size, features, labels):\n",
    "    print(X, '\\n', y)\n",
    "    break"
   ]
  },
  {
   "cell_type": "markdown",
   "metadata": {},
   "source": [
    "## 5.初始化模型参数"
   ]
  },
  {
   "cell_type": "markdown",
   "metadata": {},
   "source": [
    "将权重初始化为均值为0，标准差为0.01的正态随机数，偏差则初始化为0。"
   ]
  },
  {
   "cell_type": "code",
   "execution_count": 6,
   "metadata": {},
   "outputs": [],
   "source": [
    "w = torch.tensor(np.random.normal(0, 0.01, (num_inputs, 1)), dtype=torch.float32)\n",
    "b = torch.zeros(1, dtype=torch.float32)"
   ]
  },
  {
   "cell_type": "markdown",
   "metadata": {},
   "source": [
    "由于之后的模型训练需要对这些参数求梯度来迭代参数的值，所以我们要让它们的requires_grad=True。"
   ]
  },
  {
   "cell_type": "code",
   "execution_count": 7,
   "metadata": {},
   "outputs": [
    {
     "data": {
      "text/plain": [
       "tensor([0.], requires_grad=True)"
      ]
     },
     "execution_count": 7,
     "metadata": {},
     "output_type": "execute_result"
    }
   ],
   "source": [
    "w.requires_grad_(requires_grad=True)\n",
    "b.requires_grad_(requires_grad=True)"
   ]
  },
  {
   "cell_type": "markdown",
   "metadata": {},
   "source": [
    "## 6.定义模型\n",
    "定义用来训练参数的训练模型：\n",
    "$$ {\\mathrm{y}} = w_{\\mathrm{1}} \\cdot x_{\\mathrm{1}} + w_{\\mathrm{2}} \\cdot x_{\\mathrm{2}} + b $$"
   ]
  },
  {
   "cell_type": "code",
   "execution_count": 8,
   "metadata": {},
   "outputs": [],
   "source": [
    "def linreg(X, w, b):\n",
    "    return torch.mm(X, w) + b"
   ]
  },
  {
   "cell_type": "markdown",
   "metadata": {},
   "source": [
    "## 7.定义损失函数\n",
    "我们使用的是均方误差损失函数： $$ l^{(i)}(\\mathbf{w}, b) = \\frac{1}{2} \\left(\\hat{y}^{(i)} - y^{(i)}\\right)^2, $$"
   ]
  },
  {
   "cell_type": "code",
   "execution_count": 9,
   "metadata": {},
   "outputs": [],
   "source": [
    "def squared_loss(y_hat, y): \n",
    "    return (y_hat - y.view(y_hat.size())) ** 2 / 2"
   ]
  },
  {
   "cell_type": "markdown",
   "metadata": {},
   "source": [
    "## 8.定义优化函数\n",
    "在这里优化函数使用的是小批量随机梯度下降：\n",
    "$$ (\\mathbf{w},b) \\leftarrow (\\mathbf{w},b) - \\frac{\\eta}{|\\mathcal{B}|} \\sum_{i \\in \\mathcal{B}} \\partial_{(\\mathbf{w},b)} l^{(i)}(\\mathbf{w},b) $$\n",
    "这里自动求梯度模块计算得到的梯度是一个批量样本的梯度和，我们将它除以批量大小来得到平均值。 "
   ]
  },
  {
   "cell_type": "code",
   "execution_count": 10,
   "metadata": {},
   "outputs": [],
   "source": [
    "def sgd(params, lr, batch_size): \n",
    "    for param in params:\n",
    "        param.data -= lr * param.grad / batch_size # ues.data可以在没有渐变轨迹的情况下操作参数"
   ]
  },
  {
   "cell_type": "markdown",
   "metadata": {},
   "source": [
    "## 9.模型训练\n",
    "当数据集、模型、损失函数和优化函数定义完了之后就可来准备进行模型的训练了。"
   ]
  },
  {
   "cell_type": "code",
   "execution_count": 11,
   "metadata": {},
   "outputs": [
    {
     "name": "stdout",
     "output_type": "stream",
     "text": [
      "epoch 1, loss 0.033618\n",
      "epoch 2, loss 0.000115\n",
      "epoch 3, loss 0.000049\n",
      "epoch 4, loss 0.000049\n",
      "epoch 5, loss 0.000049\n"
     ]
    }
   ],
   "source": [
    "# 超参数初始化\n",
    "lr = 0.03  # 学习率\n",
    "num_epochs = 5  # 迭代周期个数\n",
    "\n",
    "net = linreg\n",
    "loss = squared_loss\n",
    "\n",
    "# 训练\n",
    "for epoch in range(num_epochs):  # 训练模型一共需要num_epochs个迭代周期\n",
    "    # 在每个周期，数据集中的所有样本将使用一次\n",
    "    \n",
    "    # X是特征，y是小批量样品的标签\n",
    "    for X, y in data_iter(batch_size, features, labels):\n",
    "        # 计算小批量样品损失的梯度\n",
    "        l = loss(net(X, w, b), y).sum()\n",
    "        \n",
    "        # 小批量的损失对模型参数求梯度\n",
    "        l.backward()\n",
    "        \n",
    "        # 使用小批量随机梯度下降迭代模型参数\n",
    "        sgd([w, b], lr, batch_size)\n",
    "        \n",
    "        # 重置梯度参数，梯度清零\n",
    "        w.grad.data.zero_()\n",
    "        b.grad.data.zero_()\n",
    "    train_l = loss(net(features, w, b), labels)\n",
    "    print('epoch %d, loss %f' % (epoch + 1, train_l.mean().item()))"
   ]
  },
  {
   "cell_type": "markdown",
   "metadata": {},
   "source": [
    "## 10.输出结果"
   ]
  },
  {
   "cell_type": "code",
   "execution_count": 12,
   "metadata": {},
   "outputs": [
    {
     "name": "stdout",
     "output_type": "stream",
     "text": [
      "[2, -3.4] \n",
      " tensor([[ 2.0001],\n",
      "        [-3.3997]], requires_grad=True)\n",
      "4.2 \n",
      " tensor([4.1996], requires_grad=True)\n"
     ]
    }
   ],
   "source": [
    "print(true_w, '\\n', w)\n",
    "print(true_b, '\\n', b)"
   ]
  }
 ],
 "metadata": {
  "file_extension": ".py",
  "kernelspec": {
   "display_name": "Python 3",
   "language": "python",
   "name": "python3"
  },
  "language_info": {
   "codemirror_mode": {
    "name": "ipython",
    "version": 3
   },
   "file_extension": ".py",
   "mimetype": "text/x-python",
   "name": "python",
   "nbconvert_exporter": "python",
   "pygments_lexer": "ipython3",
   "version": "3.7.6"
  },
  "mimetype": "text/x-python",
  "name": "python",
  "npconvert_exporter": "python",
  "pygments_lexer": "ipython3",
  "version": 3
 },
 "nbformat": 4,
 "nbformat_minor": 2
}
