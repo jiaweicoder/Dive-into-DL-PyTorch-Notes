{
 "nbformat": 4,
 "nbformat_minor": 2,
 "metadata": {
  "language_info": {
   "name": "python",
   "codemirror_mode": {
    "name": "ipython",
    "version": 3
   },
   "version": "3.7.4-final"
  },
  "orig_nbformat": 2,
  "file_extension": ".py",
  "mimetype": "text/x-python",
  "name": "python",
  "npconvert_exporter": "python",
  "pygments_lexer": "ipython3",
  "version": 3,
  "kernelspec": {
   "name": "python37464bitpytorchcondadba5b8d482fb49e9a843bab88f901f7d",
   "display_name": "Python 3.7.4 64-bit ('pytorch': conda)"
  }
 },
 "cells": [
  {
   "cell_type": "markdown",
   "metadata": {},
   "source": [
    "# 06 矢量计算"
   ]
  },
  {
   "cell_type": "code",
   "execution_count": 1,
   "metadata": {},
   "outputs": [],
   "source": [
    "import torch\n",
    "from time import time"
   ]
  },
  {
   "cell_type": "code",
   "execution_count": 2,
   "metadata": {},
   "outputs": [],
   "source": [
    "# 定义两个1000维向量\n",
    "\n",
    "a = torch.ones(1000)\n",
    "b = torch.ones(1000)"
   ]
  },
  {
   "cell_type": "markdown",
   "metadata": {},
   "source": [
    "## 做向量加法有两种方式\n",
    "\n",
    "第一种方式：将这两个向量中的每个元素分别进行标量的加法\n",
    "\n",
    "第二种方式：将这两个向量直接做矢量的加法"
   ]
  },
  {
   "cell_type": "code",
   "execution_count": 3,
   "metadata": {},
   "outputs": [
    {
     "name": "stdout",
     "output_type": "stream",
     "text": "0.021815776824951172\n"
    }
   ],
   "source": [
    "# 第一种方式：将这两个向量中的每个元素分别进行标量的加法\n",
    "\n",
    "start1 = time()\n",
    "c = torch.zeros(1000)\n",
    "for i in range(1000):\n",
    "    c[i] = a[i] +b[i]\n",
    "end1 = time()\n",
    "print(end1 -start1)"
   ]
  },
  {
   "cell_type": "code",
   "execution_count": 4,
   "metadata": {},
   "outputs": [
    {
     "name": "stdout",
     "output_type": "stream",
     "text": "0.0009682178497314453\n"
    }
   ],
   "source": [
    "# 第二种方式：将这两个向量直接做矢量的加法\n",
    "\n",
    "start2 = time()\n",
    "d = a + b\n",
    "end2 = time()\n",
    "print(end2 - start2)"
   ]
  },
  {
   "cell_type": "markdown",
   "metadata": {},
   "source": [
    "## 直接进行矢量运算可以提高计算效率"
   ]
  }
 ]
}