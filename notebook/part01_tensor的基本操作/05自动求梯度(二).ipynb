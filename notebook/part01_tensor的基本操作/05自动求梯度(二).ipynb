{
 "nbformat": 4,
 "nbformat_minor": 2,
 "metadata": {
  "language_info": {
   "name": "python",
   "codemirror_mode": {
    "name": "ipython",
    "version": 3
   },
   "version": "3.7.4-final"
  },
  "orig_nbformat": 2,
  "file_extension": ".py",
  "mimetype": "text/x-python",
  "name": "python",
  "npconvert_exporter": "python",
  "pygments_lexer": "ipython3",
  "version": 3,
  "kernelspec": {
   "name": "python37464bit20f34dd1b2ae42348a0cb3969f8b42ab",
   "display_name": "Python 3.7.4 64-bit"
  }
 },
 "cells": [
  {
   "cell_type": "markdown",
   "metadata": {},
   "source": [
    "# 05 自动求梯度(二)"
   ]
  },
  {
   "cell_type": "code",
   "execution_count": 1,
   "metadata": {},
   "outputs": [],
   "source": [
    "import torch"
   ]
  },
  {
   "cell_type": "markdown",
   "metadata": {},
   "source": [
    "## 求梯度"
   ]
  },
  {
   "cell_type": "code",
   "execution_count": 2,
   "metadata": {},
   "outputs": [
    {
     "name": "stdout",
     "output_type": "stream",
     "text": "tensor([[1., 1.],\n        [1., 1.]], requires_grad=True)\n"
    }
   ],
   "source": [
    "x = torch.ones(2, 2, requires_grad=True)\n",
    "print(x)"
   ]
  },
  {
   "cell_type": "code",
   "execution_count": 3,
   "metadata": {},
   "outputs": [
    {
     "name": "stdout",
     "output_type": "stream",
     "text": "tensor([[3., 3.],\n        [3., 3.]], grad_fn=<AddBackward0>)\n"
    }
   ],
   "source": [
    "y = x + 2\n",
    "print(y)"
   ]
  },
  {
   "cell_type": "code",
   "execution_count": 4,
   "metadata": {},
   "outputs": [
    {
     "name": "stdout",
     "output_type": "stream",
     "text": "tensor([[27., 27.],\n        [27., 27.]], grad_fn=<MulBackward0>)\ntensor(27., grad_fn=<MeanBackward1>)\n"
    }
   ],
   "source": [
    "z = y * y * 3\n",
    "out = z.mean()\n",
    "print(z)\n",
    "print(out)"
   ]
  },
  {
   "cell_type": "code",
   "execution_count": 5,
   "metadata": {},
   "outputs": [],
   "source": [
    "out.backward()"
   ]
  },
  {
   "cell_type": "code",
   "execution_count": 6,
   "metadata": {},
   "outputs": [
    {
     "name": "stdout",
     "output_type": "stream",
     "text": "tensor([[4.5000, 4.5000],\n        [4.5000, 4.5000]])\n"
    }
   ],
   "source": [
    "print(x.grad)"
   ]
  },
  {
   "cell_type": "markdown",
   "metadata": {},
   "source": [
    "## 反向传播，梯度累加"
   ]
  },
  {
   "cell_type": "code",
   "execution_count": 7,
   "metadata": {},
   "outputs": [
    {
     "name": "stdout",
     "output_type": "stream",
     "text": "tensor(4., grad_fn=<SumBackward0>)\n"
    }
   ],
   "source": [
    "out2 = x.sum()\n",
    "print(out2)"
   ]
  },
  {
   "cell_type": "code",
   "execution_count": 8,
   "metadata": {},
   "outputs": [
    {
     "name": "stdout",
     "output_type": "stream",
     "text": "tensor([[5.5000, 5.5000],\n        [5.5000, 5.5000]])\n"
    }
   ],
   "source": [
    "out2.backward()\n",
    "print(x.grad)"
   ]
  },
  {
   "cell_type": "markdown",
   "metadata": {},
   "source": [
    "## 通常反向传播前，梯度清零"
   ]
  },
  {
   "cell_type": "code",
   "execution_count": 9,
   "metadata": {},
   "outputs": [
    {
     "name": "stdout",
     "output_type": "stream",
     "text": "tensor(4., grad_fn=<SumBackward0>)\n"
    }
   ],
   "source": [
    "out3 = x.sum()\n",
    "print(out3)"
   ]
  },
  {
   "cell_type": "code",
   "execution_count": 10,
   "metadata": {},
   "outputs": [
    {
     "name": "stdout",
     "output_type": "stream",
     "text": "tensor([[1., 1.],\n        [1., 1.]])\n"
    }
   ],
   "source": [
    "x.grad.data.zero_()\n",
    "out3.backward()\n",
    "print(x.grad)"
   ]
  },
  {
   "cell_type": "markdown",
   "metadata": {},
   "source": [
    "不允许张量对张量求导，只允许标量对张量求导，求导结果为和自变量同形的张量"
   ]
  },
  {
   "cell_type": "code",
   "execution_count": 11,
   "metadata": {},
   "outputs": [
    {
     "name": "stdout",
     "output_type": "stream",
     "text": "tensor([1., 2., 3., 4.], requires_grad=True)\ntensor([2., 4., 6., 8.], grad_fn=<MulBackward0>)\ntensor([[2., 4.],\n        [6., 8.]], grad_fn=<ViewBackward>)\n"
    }
   ],
   "source": [
    "x1 = torch.tensor([1.0, 2.0, 3.0, 4.0], requires_grad=True)\n",
    "y1 = 2 * x1\n",
    "z1 = y1.view(2, 2)\n",
    "print(x1)\n",
    "print(y1)\n",
    "print(z1)\n",
    "# 这里y1不是一个标量"
   ]
  },
  {
   "cell_type": "code",
   "execution_count": 12,
   "metadata": {},
   "outputs": [
    {
     "name": "stdout",
     "output_type": "stream",
     "text": "tensor([2.0000, 2.0000, 0.0200, 0.0020])\n"
    }
   ],
   "source": [
    "v = torch.tensor([[1.0, 1.0], [0.01, 0.001]], dtype=torch.float)\n",
    "z1.backward(v)\n",
    "print(x1.grad)"
   ]
  },
  {
   "cell_type": "markdown",
   "metadata": {},
   "source": [
    "## 梯度追踪"
   ]
  },
  {
   "cell_type": "code",
   "execution_count": 13,
   "metadata": {},
   "outputs": [],
   "source": [
    "x2 = torch.tensor(1.0, requires_grad=True)\n",
    "y2_1 = x2 ** 2\n",
    "with torch.no_grad():\n",
    "    y2_2 = x2 ** 3\n",
    "y2_3 = y2_1 + y2_2"
   ]
  },
  {
   "cell_type": "code",
   "execution_count": 14,
   "metadata": {},
   "outputs": [
    {
     "name": "stdout",
     "output_type": "stream",
     "text": "tensor(1., requires_grad=True)\nTrue\ntensor(1., grad_fn=<PowBackward0>)\nTrue\ntensor(1.)\nFalse\ntensor(2., grad_fn=<AddBackward0>)\nTrue\n"
    }
   ],
   "source": [
    "print(x2)\n",
    "print(x2.requires_grad)\n",
    "print(y2_1)\n",
    "print(y2_1.requires_grad)\n",
    "print(y2_2)\n",
    "print(y2_2.requires_grad)\n",
    "print(y2_3)\n",
    "print(y2_3.requires_grad)"
   ]
  },
  {
   "cell_type": "code",
   "execution_count": 15,
   "metadata": {},
   "outputs": [
    {
     "name": "stdout",
     "output_type": "stream",
     "text": "tensor(2.)\n"
    }
   ],
   "source": [
    "y2_3.backward()\n",
    "print(x2.grad)"
   ]
  },
  {
   "cell_type": "markdown",
   "metadata": {},
   "source": [
    "## 对tensor.data进行操作"
   ]
  },
  {
   "cell_type": "markdown",
   "metadata": {},
   "source": [
    "修改tensor数值，但不会被autograd记录"
   ]
  },
  {
   "cell_type": "code",
   "execution_count": 16,
   "metadata": {},
   "outputs": [],
   "source": [
    "x3 = torch.ones(1, requires_grad=True)"
   ]
  },
  {
   "cell_type": "code",
   "execution_count": 17,
   "metadata": {},
   "outputs": [
    {
     "name": "stdout",
     "output_type": "stream",
     "text": "tensor([1.], requires_grad=True)\ntensor([1.])\nFalse\n"
    }
   ],
   "source": [
    "print(x3)\n",
    "print(x3.data)\n",
    "print(x3.data.requires_grad)\n",
    "# x3不在计算图之内"
   ]
  },
  {
   "cell_type": "code",
   "execution_count": 18,
   "metadata": {},
   "outputs": [
    {
     "name": "stdout",
     "output_type": "stream",
     "text": "tensor([100.], requires_grad=True)\ntensor([100.])\n"
    }
   ],
   "source": [
    "y3 = 2 * x3\n",
    "x3.data *= 100\n",
    "# 只改变了值，没改变计算图\n",
    "print(x3)\n",
    "print(x3.data)"
   ]
  },
  {
   "cell_type": "code",
   "execution_count": 19,
   "metadata": {},
   "outputs": [
    {
     "name": "stdout",
     "output_type": "stream",
     "text": "tensor([100.], requires_grad=True)\ntensor([2.])\n"
    }
   ],
   "source": [
    "y3.backward()\n",
    "print(x3)\n",
    "print(x3.grad)"
   ]
  }
 ]
}