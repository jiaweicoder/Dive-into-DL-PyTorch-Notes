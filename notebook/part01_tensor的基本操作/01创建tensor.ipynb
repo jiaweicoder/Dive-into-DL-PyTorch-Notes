{
 "nbformat": 4,
 "nbformat_minor": 2,
 "metadata": {
  "language_info": {
   "name": "python",
   "codemirror_mode": {
    "name": "ipython",
    "version": 3
   },
   "version": "3.7.4-final"
  },
  "orig_nbformat": 2,
  "file_extension": ".py",
  "mimetype": "text/x-python",
  "name": "python",
  "npconvert_exporter": "python",
  "pygments_lexer": "ipython3",
  "version": 3,
  "kernelspec": {
   "name": "python37464bit20f34dd1b2ae42348a0cb3969f8b42ab",
   "display_name": "Python 3.7.4 64-bit"
  }
 },
 "cells": [
  {
   "cell_type": "markdown",
   "execution_count": null,
   "metadata": {},
   "outputs": [],
   "source": [
    "# 01 创建tensor"
   ]
  },
  {
   "cell_type": "code",
   "execution_count": 1,
   "metadata": {},
   "outputs": [],
   "source": [
    "import torch"
   ]
  },
  {
   "cell_type": "code",
   "execution_count": 2,
   "metadata": {},
   "outputs": [
    {
     "name": "stdout",
     "output_type": "stream",
     "text": "tensor([[1.8319e+25, 4.7562e+30, 4.5267e+21],\n        [2.8231e+23, 7.6583e+28, 1.7753e+28],\n        [1.9208e+31, 2.3715e+12, 7.3970e+20],\n        [1.1430e+33, 2.0535e-19, 7.0952e+22],\n        [2.0616e-19, 5.0843e+31, 1.1835e+22]])\n"
    }
   ],
   "source": [
    "# 创建一个5*3未初始化的tensor\n",
    "\n",
    "x1 = torch.empty(5, 3)\n",
    "print(x1)"
   ]
  },
  {
   "cell_type": "code",
   "execution_count": 3,
   "metadata": {},
   "outputs": [
    {
     "name": "stdout",
     "output_type": "stream",
     "text": "tensor([[0.7685, 0.4128, 0.4379],\n        [0.9948, 0.7047, 0.4514],\n        [0.3108, 0.4169, 0.3761],\n        [0.5965, 0.4171, 0.3180],\n        [0.6449, 0.2752, 0.8610]])\n"
    }
   ],
   "source": [
    "# 创建一个5*3随机初始化的tensor\n",
    "\n",
    "x2 = torch.rand(5, 3)\n",
    "print(x2)"
   ]
  },
  {
   "cell_type": "code",
   "execution_count": 4,
   "metadata": {},
   "outputs": [
    {
     "name": "stdout",
     "output_type": "stream",
     "text": "tensor([[0, 0, 0],\n        [0, 0, 0],\n        [0, 0, 0],\n        [0, 0, 0],\n        [0, 0, 0]])\n"
    }
   ],
   "source": [
    "# 创建一个5*3全零tensor\n",
    "\n",
    "x3 = torch.zeros(5, 3, dtype=torch.long)\n",
    "print(x3)"
   ]
  },
  {
   "cell_type": "code",
   "execution_count": 5,
   "metadata": {},
   "outputs": [
    {
     "name": "stdout",
     "output_type": "stream",
     "text": "tensor([5.5000, 3.0000])\ntensor([[5, 6, 7],\n        [8, 9, 0]])\n"
    }
   ],
   "source": [
    "# 直接通过数据创建tensor\n",
    "\n",
    "x4 = torch.tensor([5.5, 3])\n",
    "print(x4)\n",
    "x5 = torch.tensor([[5, 6, 7],[8, 9, 0]])\n",
    "print(x5)"
   ]
  },
  {
   "cell_type": "code",
   "execution_count": 6,
   "metadata": {},
   "outputs": [
    {
     "name": "stdout",
     "output_type": "stream",
     "text": "tensor([[0.7364, 0.5075, 0.6360],\n        [0.0756, 0.7810, 0.2041],\n        [0.8348, 0.9046, 0.0209],\n        [0.4402, 0.2408, 0.0985],\n        [0.4054, 0.6090, 0.4128]])\ntensor([[1., 1., 1.],\n        [1., 1., 1.],\n        [1., 1., 1.],\n        [1., 1., 1.],\n        [1., 1., 1.]], dtype=torch.float64)\ntensor([[ 0.1296, -0.5921,  0.8504],\n        [ 1.1745, -0.7176,  1.6882],\n        [-0.4914,  1.7100,  0.6318],\n        [ 2.8743,  0.7161, -0.7039],\n        [ 1.3816,  0.7589, -0.7353]])\n"
    }
   ],
   "source": [
    "# 通过已有的tensor来创造新的tensor\n",
    "\n",
    "x6 = torch.rand(5, 3)\n",
    "x7 = x6.new_ones(5, 3, dtype=torch.float64)\n",
    "x8 = torch.randn_like(x6, dtype=torch.float)\n",
    "print(x6)\n",
    "print(x7)\n",
    "print(x8)"
   ]
  },
  {
   "cell_type": "code",
   "execution_count": 7,
   "metadata": {},
   "outputs": [
    {
     "name": "stdout",
     "output_type": "stream",
     "text": "torch.Size([5, 3])\ntorch.Size([5, 3])\n"
    }
   ],
   "source": [
    "x9 = torch.rand(5, 3)\n",
    "print(x9.size())\n",
    "print(x9.shape)"
   ]
  }
 ]
}