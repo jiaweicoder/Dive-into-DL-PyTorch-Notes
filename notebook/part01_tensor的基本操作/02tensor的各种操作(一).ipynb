{
 "nbformat": 4,
 "nbformat_minor": 2,
 "metadata": {
  "language_info": {
   "name": "python",
   "codemirror_mode": {
    "name": "ipython",
    "version": 3
   },
   "version": "3.7.4-final"
  },
  "orig_nbformat": 2,
  "file_extension": ".py",
  "mimetype": "text/x-python",
  "name": "python",
  "npconvert_exporter": "python",
  "pygments_lexer": "ipython3",
  "version": 3,
  "kernelspec": {
   "name": "python37464bit20f34dd1b2ae42348a0cb3969f8b42ab",
   "display_name": "Python 3.7.4 64-bit"
  }
 },
 "cells": [
  {
   "cell_type": "markdown",
   "metadata": {},
   "source": [
    "# 02 tensor的各种操作(一)"
   ]
  },
  {
   "cell_type": "code",
   "execution_count": 1,
   "metadata": {},
   "outputs": [],
   "source": [
    "import torch"
   ]
  },
  {
   "cell_type": "markdown",
   "metadata": {},
   "source": [
    "## 算术操作--加法"
   ]
  },
  {
   "cell_type": "code",
   "execution_count": 2,
   "metadata": {},
   "outputs": [
    {
     "name": "stdout",
     "output_type": "stream",
     "text": "tensor([[0.2521, 0.8206, 0.6869],\n        [0.6138, 0.7707, 0.7036],\n        [0.9857, 0.9726, 0.1637],\n        [0.8090, 0.1333, 0.6668],\n        [0.2895, 0.7116, 0.2333]])\ntensor([[0.4988, 0.2015, 0.2782],\n        [0.9605, 0.6311, 0.1829],\n        [0.1507, 0.8410, 0.0934],\n        [0.4214, 0.4586, 0.9683],\n        [0.2986, 0.8865, 0.1008]])\n"
    }
   ],
   "source": [
    "x1 = torch.rand(5, 3)\n",
    "y1 = torch.rand(5, 3)\n",
    "print(x1)\n",
    "print(y1)"
   ]
  },
  {
   "cell_type": "code",
   "execution_count": 3,
   "metadata": {},
   "outputs": [
    {
     "name": "stdout",
     "output_type": "stream",
     "text": "tensor([[0.7509, 1.0221, 0.9651],\n        [1.5743, 1.4018, 0.8865],\n        [1.1364, 1.8136, 0.2572],\n        [1.2304, 0.5919, 1.6351],\n        [0.5881, 1.5981, 0.3341]])\n"
    }
   ],
   "source": [
    "# 操作一\n",
    "print(x1 + y1)"
   ]
  },
  {
   "cell_type": "code",
   "execution_count": 4,
   "metadata": {},
   "outputs": [
    {
     "name": "stdout",
     "output_type": "stream",
     "text": "tensor([[0.7509, 1.0221, 0.9651],\n        [1.5743, 1.4018, 0.8865],\n        [1.1364, 1.8136, 0.2572],\n        [1.2304, 0.5919, 1.6351],\n        [0.5881, 1.5981, 0.3341]])\ntensor([[0.7509, 1.0221, 0.9651],\n        [1.5743, 1.4018, 0.8865],\n        [1.1364, 1.8136, 0.2572],\n        [1.2304, 0.5919, 1.6351],\n        [0.5881, 1.5981, 0.3341]])\n"
    }
   ],
   "source": [
    "# 操作二\n",
    "print(torch.add(x1, y1))\n",
    "# 指定输出\n",
    "result = torch.empty(5, 3)\n",
    "torch.add(x1, y1, out=result)\n",
    "print(result)"
   ]
  },
  {
   "cell_type": "code",
   "execution_count": 5,
   "metadata": {},
   "outputs": [
    {
     "name": "stdout",
     "output_type": "stream",
     "text": "tensor([[0.7509, 1.0221, 0.9651],\n        [1.5743, 1.4018, 0.8865],\n        [1.1364, 1.8136, 0.2572],\n        [1.2304, 0.5919, 1.6351],\n        [0.5881, 1.5981, 0.3341]])\n"
    }
   ],
   "source": [
    "# 操作三\n",
    "y1.add_(x1)\n",
    "print(y1)"
   ]
  },
  {
   "cell_type": "markdown",
   "metadata": {},
   "source": [
    "## 索引"
   ]
  },
  {
   "cell_type": "code",
   "execution_count": 6,
   "metadata": {},
   "outputs": [
    {
     "name": "stdout",
     "output_type": "stream",
     "text": "tensor([[0.5822, 0.5563, 0.2445],\n        [0.4907, 0.4946, 0.9142],\n        [0.7150, 0.8503, 0.0614],\n        [0.2815, 0.1887, 0.5431],\n        [0.5371, 0.7168, 0.6596]])\ntensor([[0.0636, 0.3147, 0.0134],\n        [0.4604, 0.0982, 0.6017],\n        [0.1311, 0.0521, 0.6543],\n        [0.0953, 0.7787, 0.2540],\n        [0.3577, 0.8990, 0.7495]])\n"
    }
   ],
   "source": [
    "x2 = torch.rand(5, 3)\n",
    "y2 = torch.rand(5, 3)\n",
    "print(x2)\n",
    "print(y2)"
   ]
  },
  {
   "cell_type": "code",
   "execution_count": 7,
   "metadata": {},
   "outputs": [
    {
     "name": "stdout",
     "output_type": "stream",
     "text": "tensor([1.5822, 1.5563, 1.2445])\ntensor([1.5822, 1.5563, 1.2445])\n"
    }
   ],
   "source": [
    "y2 = x2[0, : ]\n",
    "y2 += 1\n",
    "print(y2)\n",
    "print(x2[0, : ])\n",
    "# 索引结果与原数据共享内存"
   ]
  },
  {
   "cell_type": "markdown",
   "metadata": {},
   "source": [
    "## 改变形状"
   ]
  },
  {
   "cell_type": "code",
   "execution_count": 8,
   "metadata": {},
   "outputs": [
    {
     "name": "stdout",
     "output_type": "stream",
     "text": "tensor([[0.6447, 0.7714, 0.1413],\n        [0.3388, 0.2834, 0.1316],\n        [0.0624, 0.9471, 0.1251],\n        [0.2784, 0.4874, 0.1881],\n        [0.4288, 0.8884, 0.5604]])\n"
    }
   ],
   "source": [
    "x3 = torch.rand(5, 3)\n",
    "print(x3)"
   ]
  },
  {
   "cell_type": "code",
   "execution_count": 9,
   "metadata": {},
   "outputs": [
    {
     "name": "stdout",
     "output_type": "stream",
     "text": "tensor([[0.6447, 0.7714, 0.1413],\n        [0.3388, 0.2834, 0.1316],\n        [0.0624, 0.9471, 0.1251],\n        [0.2784, 0.4874, 0.1881],\n        [0.4288, 0.8884, 0.5604]]) torch.Size([5, 3])\ntensor([0.6447, 0.7714, 0.1413, 0.3388, 0.2834, 0.1316, 0.0624, 0.9471, 0.1251,\n        0.2784, 0.4874, 0.1881, 0.4288, 0.8884, 0.5604]) torch.Size([15])\ntensor([[0.6447, 0.7714, 0.1413, 0.3388, 0.2834],\n        [0.1316, 0.0624, 0.9471, 0.1251, 0.2784],\n        [0.4874, 0.1881, 0.4288, 0.8884, 0.5604]]) torch.Size([3, 5])\n"
    }
   ],
   "source": [
    "y3 = x3.view(15)\n",
    "z3 = x3.view(-1, 5)\n",
    "print(x3, x3.size())\n",
    "print(y3, y3.size())\n",
    "print(z3, z3.size())"
   ]
  },
  {
   "cell_type": "code",
   "execution_count": 10,
   "metadata": {},
   "outputs": [
    {
     "name": "stdout",
     "output_type": "stream",
     "text": "tensor([[1.6447, 1.7714, 1.1413],\n        [1.3388, 1.2834, 1.1316],\n        [1.0624, 1.9471, 1.1251],\n        [1.2784, 1.4874, 1.1881],\n        [1.4288, 1.8884, 1.5604]])\ntensor([1.6447, 1.7714, 1.1413, 1.3388, 1.2834, 1.1316, 1.0624, 1.9471, 1.1251,\n        1.2784, 1.4874, 1.1881, 1.4288, 1.8884, 1.5604])\n"
    }
   ],
   "source": [
    "# .view()改变tensor形状，但新tensor与原tensor共享同一处内存\n",
    "x3 += 1\n",
    "print(x3)\n",
    "print(y3)"
   ]
  },
  {
   "cell_type": "code",
   "execution_count": 11,
   "metadata": {},
   "outputs": [
    {
     "name": "stdout",
     "output_type": "stream",
     "text": "tensor([1.6447, 1.7714, 1.1413, 1.3388, 1.2834, 1.1316, 1.0624, 1.9471, 1.1251,\n        1.2784, 1.4874, 1.1881, 1.4288, 1.8884, 1.5604])\ntensor([[0.6447, 0.7714, 0.1413],\n        [0.3388, 0.2834, 0.1316],\n        [0.0624, 0.9471, 0.1251],\n        [0.2784, 0.4874, 0.1881],\n        [0.4288, 0.8884, 0.5604]])\n"
    }
   ],
   "source": [
    "# .clone()复制时，新tenor与原tenor没有共享同一处内存\n",
    "x_copy = x3.clone().view(15)\n",
    "x3 -= 1\n",
    "print(x_copy)\n",
    "print(x3)"
   ]
  },
  {
   "cell_type": "code",
   "execution_count": 12,
   "metadata": {},
   "outputs": [
    {
     "name": "stdout",
     "output_type": "stream",
     "text": "tensor([1.9515])\n1.9515163898468018\n"
    }
   ],
   "source": [
    "# .item()将标量tensor转换为python内的数据\n",
    "x4 = torch.randn(1)\n",
    "print(x4)\n",
    "print(x4.item())"
   ]
  }
 ]
}