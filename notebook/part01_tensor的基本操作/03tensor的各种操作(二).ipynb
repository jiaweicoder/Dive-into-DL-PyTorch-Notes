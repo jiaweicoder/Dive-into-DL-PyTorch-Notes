{
 "nbformat": 4,
 "nbformat_minor": 2,
 "metadata": {
  "language_info": {
   "name": "python",
   "codemirror_mode": {
    "name": "ipython",
    "version": 3
   },
   "version": "3.7.4-final"
  },
  "orig_nbformat": 2,
  "file_extension": ".py",
  "mimetype": "text/x-python",
  "name": "python",
  "npconvert_exporter": "python",
  "pygments_lexer": "ipython3",
  "version": 3,
  "kernelspec": {
   "name": "python37464bit20f34dd1b2ae42348a0cb3969f8b42ab",
   "display_name": "Python 3.7.4 64-bit"
  }
 },
 "cells": [
  {
   "cell_type": "markdown",
   "metadata": {},
   "source": [
    "# 03 tensor的各种操作(二)"
   ]
  },
  {
   "cell_type": "code",
   "execution_count": 1,
   "metadata": {},
   "outputs": [],
   "source": [
    "import torch"
   ]
  },
  {
   "cell_type": "markdown",
   "metadata": {},
   "source": [
    "## 广播机制"
   ]
  },
  {
   "cell_type": "code",
   "execution_count": 2,
   "metadata": {},
   "outputs": [
    {
     "name": "stdout",
     "output_type": "stream",
     "text": "tensor([[1, 2]])\ntensor([[1],\n        [2],\n        [3]])\ntensor([[2, 3],\n        [3, 4],\n        [4, 5]])\n"
    }
   ],
   "source": [
    "x1 = torch.arange(1, 3).view(1, 2)   # x1是1行2列的矩阵\n",
    "y1 = torch.arange(1, 4).view(3, 1)   # y1是3行1列的矩阵\n",
    "print(x1)\n",
    "print(y1)\n",
    "print(x1 + y1)\n",
    "# x1的一行中的两个元素被复制后参与了x1+y1第二，三行的计算；而y1的一列的三个元素被复制后参与了x1+y1第二列的计算"
   ]
  },
  {
   "cell_type": "markdown",
   "metadata": {},
   "source": [
    "## 运算时的内存情况"
   ]
  },
  {
   "cell_type": "code",
   "execution_count": 3,
   "metadata": {},
   "outputs": [
    {
     "name": "stdout",
     "output_type": "stream",
     "text": "1439667485656\n1439636590328\nFalse\n"
    }
   ],
   "source": [
    "# 直接运算\n",
    "\n",
    "x2 = torch.tensor([1, 2])\n",
    "y2 = torch.tensor([3, 4])\n",
    "id_before1 = id(y2)\n",
    "print(id_before1)\n",
    "y2 = y2 + x2\n",
    "print(id(y2))\n",
    "print(id(y2) == id_before1)"
   ]
  },
  {
   "cell_type": "code",
   "execution_count": 4,
   "metadata": {},
   "outputs": [
    {
     "name": "stdout",
     "output_type": "stream",
     "text": "1439667516424\n1439667516424\nTrue\n"
    }
   ],
   "source": [
    "# 通过索引来替换操作\n",
    "\n",
    "x3 = torch.tensor([1, 2])\n",
    "y3 = torch.tensor([3, 4])\n",
    "id_before2 = id(y3)\n",
    "print(id_before2)\n",
    "y3[:] = y3 + x3\n",
    "print(id(y3))\n",
    "print(id(y3) == id_before2)"
   ]
  },
  {
   "cell_type": "code",
   "execution_count": 5,
   "metadata": {},
   "outputs": [
    {
     "name": "stdout",
     "output_type": "stream",
     "text": "1439667536264\n1439667536264\nTrue\n"
    }
   ],
   "source": [
    "# 通过使用函数中自带的参数out来指定内存地址\n",
    "\n",
    "x4 = torch.tensor([1, 2])\n",
    "y4 = torch.tensor([3, 4])\n",
    "id_before3 = id(y4)\n",
    "print(id_before3)\n",
    "torch.add(x4, y4, out=y4)\n",
    "print(id(y4))\n",
    "print(id(y4) == id_before3)"
   ]
  },
  {
   "cell_type": "markdown",
   "metadata": {},
   "source": [
    "## tensor和numpy间的相互转换"
   ]
  },
  {
   "cell_type": "markdown",
   "metadata": {},
   "source": [
    "### tensor转换成numpy"
   ]
  },
  {
   "cell_type": "code",
   "execution_count": 6,
   "metadata": {},
   "outputs": [
    {
     "name": "stdout",
     "output_type": "stream",
     "text": "tensor([1., 1., 1., 1., 1.])\n[1. 1. 1. 1. 1.]\nFalse\n"
    }
   ],
   "source": [
    "a1 = torch.ones(5)\n",
    "b1 = a1.numpy()\n",
    "print(a1)\n",
    "print(b1)\n",
    "print(id(a1) == id(b1))"
   ]
  },
  {
   "cell_type": "code",
   "execution_count": 7,
   "metadata": {},
   "outputs": [
    {
     "name": "stdout",
     "output_type": "stream",
     "text": "tensor([2., 2., 2., 2., 2.])\n[2. 2. 2. 2. 2.]\nFalse\n"
    }
   ],
   "source": [
    "a1 += 1\n",
    "print(a1)\n",
    "print(b1)\n",
    "print(id(a1) == id(b1))"
   ]
  },
  {
   "cell_type": "code",
   "execution_count": 8,
   "metadata": {},
   "outputs": [
    {
     "name": "stdout",
     "output_type": "stream",
     "text": "tensor([3., 3., 3., 3., 3.])\n[3. 3. 3. 3. 3.]\nFalse\n"
    }
   ],
   "source": [
    "b1 += 1\n",
    "print(a1)\n",
    "print(b1)\n",
    "print(id(a1) == id(b1))"
   ]
  },
  {
   "cell_type": "markdown",
   "metadata": {},
   "source": [
    "### numpy转换成tensor"
   ]
  },
  {
   "cell_type": "code",
   "execution_count": 9,
   "metadata": {},
   "outputs": [
    {
     "name": "stdout",
     "output_type": "stream",
     "text": "[1. 1. 1. 1. 1.]\ntensor([1., 1., 1., 1., 1.], dtype=torch.float64)\nFalse\n"
    }
   ],
   "source": [
    "import numpy as np\n",
    "a2 = np.ones(5)\n",
    "b2 = torch.from_numpy(a2)\n",
    "print(a2)\n",
    "print(b2)\n",
    "print(id(a2) == id(b2))"
   ]
  },
  {
   "cell_type": "code",
   "execution_count": 10,
   "metadata": {},
   "outputs": [
    {
     "name": "stdout",
     "output_type": "stream",
     "text": "[2. 2. 2. 2. 2.]\ntensor([2., 2., 2., 2., 2.], dtype=torch.float64)\nFalse\n"
    }
   ],
   "source": [
    "a2 += 1\n",
    "print(a2)\n",
    "print(b2)\n",
    "print(id(a2) == id(b2))"
   ]
  },
  {
   "cell_type": "code",
   "execution_count": 11,
   "metadata": {},
   "outputs": [
    {
     "name": "stdout",
     "output_type": "stream",
     "text": "[3. 3. 3. 3. 3.]\ntensor([3., 3., 3., 3., 3.], dtype=torch.float64)\nFalse\n"
    }
   ],
   "source": [
    "b2 += 1\n",
    "print(a2)\n",
    "print(b2)\n",
    "print(id(a2) == id(b2))"
   ]
  },
  {
   "cell_type": "code",
   "execution_count": 12,
   "metadata": {},
   "outputs": [
    {
     "name": "stdout",
     "output_type": "stream",
     "text": "[1. 1. 1. 1. 1.]\ntensor([1., 1., 1., 1., 1.], dtype=torch.float64)\nFalse\n"
    }
   ],
   "source": [
    "# 直接torch.tensor()的方法\n",
    "\n",
    "a = np.ones(5)\n",
    "b = torch.tensor(a)\n",
    "print(a)\n",
    "print(b)\n",
    "print(id(a) == id(b))"
   ]
  }
 ]
}